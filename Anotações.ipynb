{
 "cells": [
  {
   "cell_type": "markdown",
   "id": "33ac147a",
   "metadata": {},
   "source": [
    "# Implementação do Software Livre GLPI para ServiceDesk e Inventário"
   ]
  },
  {
   "cell_type": "markdown",
   "id": "1e81596f",
   "metadata": {},
   "source": [
    "### Introdução:"
   ]
  },
  {
   "cell_type": "markdown",
   "id": "b4acad3f",
   "metadata": {},
   "source": [
    "O <strong>GLPI</strong> é um incrível software de gerenciamento de serviços baseado em tecnologias de código aberto. Ele ajuda você a planejar e gerenciar <em>mudanças</em> de TI de maneira fácil, resolver <em>problemas</em> com eficiência, <em>automatizar</em> seus processos de negócios e obter <em>controle</em> sobre sua infraestrutura de TI.</p>"
   ]
  },
  {
   "cell_type": "markdown",
   "id": "86a38156",
   "metadata": {},
   "source": [
    "### Versões utilizadas:"
   ]
  },
  {
   "cell_type": "markdown",
   "id": "1bee8a3c",
   "metadata": {},
   "source": [
    "- GLPI versão 10.0\n",
    "- Apache versão 2.4.54\n",
    "- PHP versão 7.4\n",
    "- MySQL versão 8.0.21"
   ]
  },
  {
   "cell_type": "markdown",
   "id": "b6a622ac",
   "metadata": {},
   "source": [
    "### Benefícios de utilização:"
   ]
  },
  {
   "cell_type": "markdown",
   "id": "71609f34",
   "metadata": {},
   "source": [
    "Por mais que seja um software de código aberto, o GLPI é um software extremamente completo e possui diversos benefícios em sua utilização. Dentre eles, podemos citar os seguintes:\n",
    "<ol>\n",
    "    <li><strong>Servicedesk completo:</strong> O módulo de servicedesk do GLPI possui todos os recursos necessários para atender cenários de demanda e atribuição. Dentro de um chamado, podemos controlar diversas características, como entidade, data, data limite, SLA, localização, categoria, requerente, observadores, atribuídos, itens relacionados, itens ITIL (chamados mudanças e problemas) relacionados, e vários outros.</li>\n",
    "    <li><strong>Inventário abrangente:</strong> Já no que remete a inventário, o GLPI está longe de ser simples. Nesse software, podemos registrar Computadores, Monitores, Dispositivos de Rede, Racks, Impressoras, Insumos, Dispositivos passivos e qualquer coisa que seja controlável pelo time de T.I. Além disso, os itens podem ser linkados entre si, indicando dependência, conjuntos e níveis de relação.</li>\n",
    "    <li><strong>Interface simplificada:</strong> A interface do software é extremamente simples, tanto para quem utiliza como administrador, quanto para quem utiliza apenas para registro dos chamados.</li>\n",
    "    <li><strong>Integrações:</strong> O GLPI pode ser integrado com outras diversas soluções, contando com notificações via e-mail, inventário automático via plugins como o OCS Inventory NG e FusionInventory, além de ser integrável com o Active Directory, automatizando a criação de logins.\n",
    "</ol>"
   ]
  },
  {
   "cell_type": "markdown",
   "id": "9834575c",
   "metadata": {},
   "source": [
    "### Estudo de Caso:"
   ]
  },
  {
   "cell_type": "markdown",
   "id": "943bed4c",
   "metadata": {},
   "source": [
    "<p>Na empresa onde trabalho atualmente, havia um simples sistema de servicedesk, o <a src=\"https://www.pipefy.com/pt-br/\" target=\"_blank\" style=\"color:#DC143C\">Pipefy</a>. Contudo, para a complexidade de chamados atendidos e alta necessidade de inventariar nossos ativos de forma organizada, o mesmo já não estava atendendo nossa demanda.</p>\n",
    "<p>Então, o software GLPI foi colocado em pauta, organizamos um servidor linux, instalamos as dependências necessárias, bancos de dados e inicamos o uso da aplicação.</p>"
   ]
  },
  {
   "cell_type": "markdown",
   "id": "6f01fd98",
   "metadata": {},
   "source": [
    "### Referências:"
   ]
  },
  {
   "cell_type": "markdown",
   "id": "31a83050",
   "metadata": {},
   "source": [
    "- https://glpi-project.org/pt-br/"
   ]
  }
 ],
 "metadata": {
  "kernelspec": {
   "display_name": "Python 3 (ipykernel)",
   "language": "python",
   "name": "python3"
  },
  "language_info": {
   "codemirror_mode": {
    "name": "ipython",
    "version": 3
   },
   "file_extension": ".py",
   "mimetype": "text/x-python",
   "name": "python",
   "nbconvert_exporter": "python",
   "pygments_lexer": "ipython3",
   "version": "3.10.4"
  }
 },
 "nbformat": 4,
 "nbformat_minor": 5
}
