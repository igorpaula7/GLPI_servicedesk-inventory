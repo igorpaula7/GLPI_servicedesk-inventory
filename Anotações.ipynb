{
 "cells": [
  {
   "cell_type": "markdown",
   "id": "cf11a1d4",
   "metadata": {},
   "source": [
    "# Implementação do Software Livre GLPI para ServiceDesk e Inventário"
   ]
  },
  {
   "cell_type": "markdown",
   "id": "364e62bd",
   "metadata": {},
   "source": [
    "### Introdução:"
   ]
  },
  {
   "cell_type": "markdown",
   "id": "5b07a5b7",
   "metadata": {},
   "source": [
    "O <strong>GLPI</strong> é um incrível software de gerenciamento de serviços baseado em tecnologias de código aberto. Ele ajuda você a planejar e gerenciar <em>mudanças</em> de TI de maneira fácil, resolver <em>problemas</em> com eficiência, <em>automatizar</em> seus processos de negócios e obter <em>controle</em> sobre sua infraestrutura de TI.</p>"
   ]
  },
  {
   "cell_type": "markdown",
   "id": "f59603d2",
   "metadata": {},
   "source": [
    "### Versões utilizadas:"
   ]
  },
  {
   "cell_type": "markdown",
   "id": "b49de7da",
   "metadata": {},
   "source": [
    "- GLPI versão 10.0\n",
    "- Apache versão 2.4.54\n",
    "- PHP versão 7.4\n",
    "- MySQL versão 8.0.21"
   ]
  },
  {
   "cell_type": "markdown",
   "id": "35217639",
   "metadata": {},
   "source": [
    "### Benefícios de utilização:"
   ]
  },
  {
   "cell_type": "markdown",
   "id": "7a850903",
   "metadata": {},
   "source": [
    "Por mais que seja um software de código aberto, o GLPI é um software extremamente completo e possui diversos benefícios em sua utilização. Dentre eles, podemos citar os seguintes:\n",
    "<ol>\n",
    "    <li><strong>Servicedesk completo:</strong> O módulo de servicedesk do GLPI possui todos os recursos necessários para atender cenários de demanda e atribuição. Dentro de um chamado, podemos controlar diversas características, como entidade, data, data limite, SLA, localização, categoria, requerente, observadores, atribuídos, itens relacionados, itens ITIL (chamados mudanças e problemas) relacionados, e vários outros.</li>\n",
    "    <li><strong>Inventário abrangente:</strong> Já no que remete a inventário, o GLPI está longe de ser simples. Nesse software, podemos registrar Computadores, Monitores, Dispositivos de Rede, Racks, Impressoras, Insumos, Dispositivos passivos e qualquer coisa que seja controlável pelo time de T.I. Além disso, os itens podem ser linkados entre si, indicando dependência, conjuntos e níveis de relação.</li>\n",
    "    <li><strong>Interface simplificada:</strong> A interface do software é extremamente simples, tanto para quem utiliza como administrador, quanto para quem utiliza apenas para registro dos chamados.\n",
    "</ol>"
   ]
  },
  {
   "cell_type": "markdown",
   "id": "0e1124d3",
   "metadata": {},
   "source": [
    "### Referências:"
   ]
  },
  {
   "cell_type": "markdown",
   "id": "9f48bc0f",
   "metadata": {},
   "source": [
    "- https://glpi-project.org/pt-br/"
   ]
  }
 ],
 "metadata": {
  "kernelspec": {
   "display_name": "Python 3 (ipykernel)",
   "language": "python",
   "name": "python3"
  },
  "language_info": {
   "codemirror_mode": {
    "name": "ipython",
    "version": 3
   },
   "file_extension": ".py",
   "mimetype": "text/x-python",
   "name": "python",
   "nbconvert_exporter": "python",
   "pygments_lexer": "ipython3",
   "version": "3.10.4"
  }
 },
 "nbformat": 4,
 "nbformat_minor": 5
}
