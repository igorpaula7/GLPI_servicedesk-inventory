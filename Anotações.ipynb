{
 "cells": [
  {
   "cell_type": "markdown",
   "id": "33ac147a",
   "metadata": {},
   "source": [
    "# Implementação do Software Livre GLPI para ServiceDesk e Inventário"
   ]
  },
  {
   "cell_type": "markdown",
   "id": "1e81596f",
   "metadata": {},
   "source": [
    "### Introdução:"
   ]
  },
  {
   "cell_type": "markdown",
   "id": "b4acad3f",
   "metadata": {},
   "source": [
    "O <strong>GLPI</strong> é um incrível software de gerenciamento de serviços baseado em tecnologias de código aberto. Ele ajuda você a planejar e gerenciar <em>mudanças</em> de TI de maneira fácil, resolver <em>problemas</em> com eficiência, <em>automatizar</em> seus processos de negócios e obter <em>controle</em> sobre sua infraestrutura de TI.</p>"
   ]
  },
  {
   "cell_type": "markdown",
   "id": "86a38156",
   "metadata": {},
   "source": [
    "### Versões utilizadas:"
   ]
  },
  {
   "cell_type": "markdown",
   "id": "1bee8a3c",
   "metadata": {},
   "source": [
    "- GLPI versão 10.0\n",
    "- Apache versão 2.4.41\n",
    "- PHP versão 7.4.3\n",
    "- MySQL versão 8.0.31\n",
    "- Linux Ubuntu 20.04.1"
   ]
  },
  {
   "cell_type": "markdown",
   "id": "b6a622ac",
   "metadata": {},
   "source": [
    "### Benefícios de utilização:"
   ]
  },
  {
   "cell_type": "markdown",
   "id": "71609f34",
   "metadata": {},
   "source": [
    "Por mais que seja um software de código aberto, o GLPI é um software extremamente completo e possui diversos benefícios em sua utilização. Dentre eles, podemos citar os seguintes:\n",
    "<ol>\n",
    "    <li><strong>Servicedesk completo:</strong> O módulo de servicedesk do GLPI possui todos os recursos necessários para atender cenários de demanda e atribuição. Dentro de um chamado, podemos controlar diversas características, como entidade, data, data limite, SLA, localização, categoria, requerente, observadores, atribuídos, itens relacionados, itens ITIL (chamados mudanças e problemas) relacionados, e vários outros.</li>\n",
    "    <li><strong>Inventário abrangente:</strong> Já no que remete a inventário, o GLPI está longe de ser simples. Nesse software, podemos registrar Computadores, Monitores, Dispositivos de Rede, Racks, Impressoras, Insumos, Dispositivos passivos e qualquer coisa que seja controlável pelo time de T.I. Além disso, os itens podem ser linkados entre si, indicando dependência, conjuntos e níveis de relação.</li>\n",
    "    <li><strong>Interface simplificada:</strong> A interface do software é extremamente simples, tanto para quem utiliza como administrador, quanto para quem utiliza apenas para registro dos chamados.</li>\n",
    "    <li><strong>Integrações:</strong> O GLPI pode ser integrado com outras diversas soluções, contando com notificações via e-mail, inventário automático via plugins como o OCS Inventory NG e FusionInventory, além de ser integrável com o Active Directory, automatizando a criação de logins.\n",
    "</ol>"
   ]
  },
  {
   "cell_type": "markdown",
   "id": "9834575c",
   "metadata": {},
   "source": [
    "### Estudo de Caso:"
   ]
  },
  {
   "cell_type": "markdown",
   "id": "943bed4c",
   "metadata": {},
   "source": [
    "<p>Na empresa onde trabalho atualmente, havia um simples sistema de servicedesk, o <a src=\"https://www.pipefy.com/pt-br/\" target=\"_blank\" style=\"color:#DC143C\">Pipefy</a>. Contudo, para a complexidade de chamados atendidos e alta necessidade de inventariar nossos ativos de forma organizada, o mesmo já não estava atendendo nossa demanda.</p>\n",
    "<p>Então, o software GLPI foi colocado em pauta, organizamos um servidor linux, instalamos as dependências necessárias, bancos de dados e inicamos o uso da aplicação.</p>\n",
    "<p>Logo no princípio, o software se mostrou extremamente competente, e aos poucos, ocorreu a parametrização e o ajuste das métricas necessárias.</p>\n",
    "\n",
    "#### Método de implantação:\n",
    "<ol>\n",
    "    <li><strong>Migração:</strong> Em primeiro lugar, migramos alguns dos chamados recentes que estavam no pipefy, para termos um histórico de no mínimo um mês na nova plataforma.</li>\n",
    "    <li><strong>Introdução aos usuários:</strong>Por já estarem acostumados com outra ferramenta de chamados, foi apenas mostrar como o GLPI funcionava e era superior ao usado anteriormente, pois mudanças sempre tendem a assustar usuários. Começamos de maneira gradativa, mostrando aos usuários como utilizar, a importância da utilização e como o uso do mesmo afeta todo o fluxo do setor</li>\n",
    "    <li><strong>Parametrização dos serviços:</strong> Quando iniciamos a habituação do público com o sistema, o próximo passo foi inserir as categorias, localizações, e coisas que seriam relavantes para mensurarmos serviços em nossa empresa.</li>\n",
    "    <li><strong>Integração com o Active Directory:</strong> Para facilitar o acesso dos colaboradores, integramos com o AD que já era utilizado em nossa empresa, fazendo que todos que já possuíam um usuário cadastrado pudessem abrir chamados.</li>\n",
    "    <li><strong>Parametrização dos ativos:</strong> Quando o sistema de servicedesk já estava usual, mapeamos os computadores, impressoras, softwares, celulares e todos ativos com auxílio do Fusion Inventory. Para maior controle, também montamos os Racks Virtualmente, efetuamos as conexões das portas de rede e efetuamos o registro de tudo isso na solução.</li>\n",
    "</ol>"
   ]
  },
  {
   "cell_type": "markdown",
   "id": "dc1b7591",
   "metadata": {},
   "source": [
    "### Imagens:"
   ]
  },
  {
   "cell_type": "markdown",
   "id": "7252fbef",
   "metadata": {},
   "source": [
    "<img src=\"assets/ativos.png\"></img><br>\n",
    "<p style=\"font-size:10\"><em>Dashboard de ativos</em></p>\n",
    "<img src=\"assets/chamados.png\"></img><br>\n",
    "<p style=\"font-size:10\"><em>Estados dos chamados</em></p>\n"
   ]
  },
  {
   "cell_type": "markdown",
   "id": "26f22f1c",
   "metadata": {},
   "source": [
    "### Considerações Finais:"
   ]
  },
  {
   "cell_type": "markdown",
   "id": "7c1d4418",
   "metadata": {},
   "source": [
    "O conteúdo apresentado foi apenas um nuance do verdadeiro potencial do GLPI, onde o objetivo era mostrar como o software simplificou a vida do setor de T.I e se mostrou uma verdadeira potência no mundo dos open-source. Caso haja planejamento e conhecimento acerca do mesmo, ele pode ser utilizado para fazer basicamente qualquer coisa."
   ]
  },
  {
   "cell_type": "markdown",
   "id": "6f01fd98",
   "metadata": {},
   "source": [
    "### Referências:"
   ]
  },
  {
   "cell_type": "markdown",
   "id": "31a83050",
   "metadata": {},
   "source": [
    "- https://glpi-project.org/pt-br/"
   ]
  }
 ],
 "metadata": {
  "kernelspec": {
   "display_name": "Python 3 (ipykernel)",
   "language": "python",
   "name": "python3"
  },
  "language_info": {
   "codemirror_mode": {
    "name": "ipython",
    "version": 3
   },
   "file_extension": ".py",
   "mimetype": "text/x-python",
   "name": "python",
   "nbconvert_exporter": "python",
   "pygments_lexer": "ipython3",
   "version": "3.11.0"
  }
 },
 "nbformat": 4,
 "nbformat_minor": 5
}
